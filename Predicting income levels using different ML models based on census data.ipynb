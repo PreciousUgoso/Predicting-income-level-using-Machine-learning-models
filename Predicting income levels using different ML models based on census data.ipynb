{
 "cells": [
  {
   "cell_type": "markdown",
   "id": "fbd52e89",
   "metadata": {},
   "source": [
    "# **YOUTHRIVE DATA SCIENCE  CAPSTONE PROJECT**"
   ]
  },
  {
   "cell_type": "markdown",
   "id": "7db52d11",
   "metadata": {},
   "source": [
    "\n",
    "\n",
    "\n",
    "## INCOME LEVEL PREDICTION USING INCOME_DATA.CSV\n",
    "\n",
    "\n",
    "\n",
    "### *AUTHOR: PRECIOUS OMOWHO UGOSO*"
   ]
  },
  {
   "cell_type": "markdown",
   "id": "9107b2e1",
   "metadata": {},
   "source": [
    "- ### 1.1. Introduction\n",
    "\n",
    "Income refers to the amount of money received or earned by an individual, household, or organization over a specific period, measured in monetary terms (e.g., naira, dollar, euro...), but this project, focused on individual's income.\n",
    "Income represents the flow of funds from several ends, making the purchases of goods, services, and assets possible.\n",
    "The data used for this project comprised of individuals with different levels of education, native country, and occupation which resulted in varying levels of income.\n",
    "Thus, income level prediction is the process of using statistical and machine learning techniques to predict an individual's or household income level based on different factors (age, workclass, fnlwgt, education, education-num, marital-status, occupation, relationship, race, sex, capital-gain, capital-loss, hours-per-week, native-country, income). It provides valuable insights into socioeconomic changes,which helps organizations and policy makers make informed decisions. \n",
    "\n",
    "- ### 1.2. AIM\n",
    "The aim of this project is to develop a machine learning model to predict whether a person’s income exceeds $50K/yr based on census data. \n",
    "\n",
    "- ### 1.3. OBJECTIVES\n",
    "1. to predict whether a person’s income exceeds $50K/yr based on census data. \n",
    "2. investigate the relationship between income levels and education level.\n",
    "3. explore and identify relevant features in the dataset. \n",
    "4. develop and evaluate different machine learning models, then select best performing model using metrics evaluation.\n",
    "5. provide insights into factors influencing income levels."
   ]
  },
  {
   "cell_type": "code",
   "execution_count": 1,
   "id": "4a0376e7",
   "metadata": {},
   "outputs": [
    {
     "name": "stdout",
     "output_type": "stream",
     "text": [
      "Defaulting to user installation because normal site-packages is not writeable\n",
      "Requirement already satisfied: joblib in c:\\programdata\\anaconda3\\lib\\site-packages (1.1.0)\n"
     ]
    }
   ],
   "source": [
    "#importing the necessary libaries, modules, and algorithms \n",
    "\n",
    "import numpy as np\n",
    "import pandas as pd\n",
    "import matplotlib.pyplot as plt\n",
    "from matplotlib import style\n",
    "import seaborn as sns\n",
    "from sklearn.impute import SimpleImputer\n",
    "from sklearn.preprocessing import OrdinalEncoder, LabelEncoder, OneHotEncoder, StandardScaler, MinMaxScaler\n",
    "from sklearn.ensemble import RandomForestClassifier\n",
    "from sklearn.decomposition import PCA\n",
    "from sklearn.feature_selection import VarianceThreshold\n",
    "from sklearn.model_selection import train_test_split, RandomizedSearchCV\n",
    "from sklearn.linear_model import LogisticRegression\n",
    "from sklearn.svm import SVC\n",
    "from sklearn.tree import DecisionTreeClassifier\n",
    "from sklearn.neighbors import KNeighborsClassifier\n",
    "from sklearn.metrics import (\n",
    "    roc_auc_score, \n",
    "    roc_curve, \n",
    "    r2_score,\n",
    "    precision_score,\n",
    "    recall_score,\n",
    "    accuracy_score,\n",
    "    classification_report,\n",
    "    auc,\n",
    "    confusion_matrix\n",
    ")\n",
    "# ignoring warnings\n",
    "import warnings\n",
    "warnings.filterwarnings(\"ignore\")\n",
    "\n",
    "# setting plt style\n",
    "plt.style.use(\"ggplot\")\n",
    "\n",
    "!pip install joblib\n",
    "\n",
    "import joblib"
   ]
  },
  {
   "cell_type": "markdown",
   "id": "78cff74e",
   "metadata": {},
   "source": [
    "- ### 1.4. Data exploration"
   ]
  },
  {
   "cell_type": "code",
   "execution_count": 2,
   "id": "55d9773e",
   "metadata": {},
   "outputs": [],
   "source": [
    "# loading the dataset\n",
    "\n",
    "incomep = pd.read_csv(\"income_data.csv\")"
   ]
  },
  {
   "cell_type": "code",
   "execution_count": 3,
   "id": "c21e9283",
   "metadata": {},
   "outputs": [
    {
     "data": {
      "text/html": [
       "<div>\n",
       "<style scoped>\n",
       "    .dataframe tbody tr th:only-of-type {\n",
       "        vertical-align: middle;\n",
       "    }\n",
       "\n",
       "    .dataframe tbody tr th {\n",
       "        vertical-align: top;\n",
       "    }\n",
       "\n",
       "    .dataframe thead th {\n",
       "        text-align: right;\n",
       "    }\n",
       "</style>\n",
       "<table border=\"1\" class=\"dataframe\">\n",
       "  <thead>\n",
       "    <tr style=\"text-align: right;\">\n",
       "      <th></th>\n",
       "      <th>age</th>\n",
       "      <th>workclass</th>\n",
       "      <th>fnlwgt</th>\n",
       "      <th>education</th>\n",
       "      <th>education-num</th>\n",
       "      <th>marital-status</th>\n",
       "      <th>occupation</th>\n",
       "      <th>relationship</th>\n",
       "      <th>race</th>\n",
       "      <th>sex</th>\n",
       "      <th>capital-gain</th>\n",
       "      <th>capital-loss</th>\n",
       "      <th>hours-per-week</th>\n",
       "      <th>native-country</th>\n",
       "      <th>income</th>\n",
       "    </tr>\n",
       "  </thead>\n",
       "  <tbody>\n",
       "    <tr>\n",
       "      <th>0</th>\n",
       "      <td>39</td>\n",
       "      <td>State-gov</td>\n",
       "      <td>77516</td>\n",
       "      <td>Bachelors</td>\n",
       "      <td>13</td>\n",
       "      <td>Never-married</td>\n",
       "      <td>Adm-clerical</td>\n",
       "      <td>Not-in-family</td>\n",
       "      <td>White</td>\n",
       "      <td>Male</td>\n",
       "      <td>2174</td>\n",
       "      <td>0</td>\n",
       "      <td>40</td>\n",
       "      <td>United-States</td>\n",
       "      <td>&lt;=50K</td>\n",
       "    </tr>\n",
       "    <tr>\n",
       "      <th>1</th>\n",
       "      <td>50</td>\n",
       "      <td>Self-emp-not-inc</td>\n",
       "      <td>83311</td>\n",
       "      <td>Bachelors</td>\n",
       "      <td>13</td>\n",
       "      <td>Married-civ-spouse</td>\n",
       "      <td>Exec-managerial</td>\n",
       "      <td>Husband</td>\n",
       "      <td>White</td>\n",
       "      <td>Male</td>\n",
       "      <td>0</td>\n",
       "      <td>0</td>\n",
       "      <td>13</td>\n",
       "      <td>United-States</td>\n",
       "      <td>&lt;=50K</td>\n",
       "    </tr>\n",
       "    <tr>\n",
       "      <th>2</th>\n",
       "      <td>38</td>\n",
       "      <td>Private</td>\n",
       "      <td>215646</td>\n",
       "      <td>HS-grad</td>\n",
       "      <td>9</td>\n",
       "      <td>Divorced</td>\n",
       "      <td>Handlers-cleaners</td>\n",
       "      <td>Not-in-family</td>\n",
       "      <td>White</td>\n",
       "      <td>Male</td>\n",
       "      <td>0</td>\n",
       "      <td>0</td>\n",
       "      <td>40</td>\n",
       "      <td>United-States</td>\n",
       "      <td>&lt;=50K</td>\n",
       "    </tr>\n",
       "    <tr>\n",
       "      <th>3</th>\n",
       "      <td>53</td>\n",
       "      <td>Private</td>\n",
       "      <td>234721</td>\n",
       "      <td>11th</td>\n",
       "      <td>7</td>\n",
       "      <td>Married-civ-spouse</td>\n",
       "      <td>Handlers-cleaners</td>\n",
       "      <td>Husband</td>\n",
       "      <td>Black</td>\n",
       "      <td>Male</td>\n",
       "      <td>0</td>\n",
       "      <td>0</td>\n",
       "      <td>40</td>\n",
       "      <td>United-States</td>\n",
       "      <td>&lt;=50K</td>\n",
       "    </tr>\n",
       "    <tr>\n",
       "      <th>4</th>\n",
       "      <td>28</td>\n",
       "      <td>Private</td>\n",
       "      <td>338409</td>\n",
       "      <td>Bachelors</td>\n",
       "      <td>13</td>\n",
       "      <td>Married-civ-spouse</td>\n",
       "      <td>Prof-specialty</td>\n",
       "      <td>Wife</td>\n",
       "      <td>Black</td>\n",
       "      <td>Female</td>\n",
       "      <td>0</td>\n",
       "      <td>0</td>\n",
       "      <td>40</td>\n",
       "      <td>Cuba</td>\n",
       "      <td>&lt;=50K</td>\n",
       "    </tr>\n",
       "  </tbody>\n",
       "</table>\n",
       "</div>"
      ],
      "text/plain": [
       "   age         workclass  fnlwgt  education  education-num  \\\n",
       "0   39         State-gov   77516  Bachelors             13   \n",
       "1   50  Self-emp-not-inc   83311  Bachelors             13   \n",
       "2   38           Private  215646    HS-grad              9   \n",
       "3   53           Private  234721       11th              7   \n",
       "4   28           Private  338409  Bachelors             13   \n",
       "\n",
       "       marital-status         occupation   relationship   race     sex  \\\n",
       "0       Never-married       Adm-clerical  Not-in-family  White    Male   \n",
       "1  Married-civ-spouse    Exec-managerial        Husband  White    Male   \n",
       "2            Divorced  Handlers-cleaners  Not-in-family  White    Male   \n",
       "3  Married-civ-spouse  Handlers-cleaners        Husband  Black    Male   \n",
       "4  Married-civ-spouse     Prof-specialty           Wife  Black  Female   \n",
       "\n",
       "   capital-gain  capital-loss  hours-per-week native-country income  \n",
       "0          2174             0              40  United-States  <=50K  \n",
       "1             0             0              13  United-States  <=50K  \n",
       "2             0             0              40  United-States  <=50K  \n",
       "3             0             0              40  United-States  <=50K  \n",
       "4             0             0              40           Cuba  <=50K  "
      ]
     },
     "execution_count": 3,
     "metadata": {},
     "output_type": "execute_result"
    }
   ],
   "source": [
    "incomep.head() # inspecting the first few rows"
   ]
  },
  {
   "cell_type": "code",
   "execution_count": 4,
   "id": "b28c1ce7",
   "metadata": {},
   "outputs": [
    {
     "name": "stdout",
     "output_type": "stream",
     "text": [
      "<class 'pandas.core.frame.DataFrame'>\n",
      "RangeIndex: 48842 entries, 0 to 48841\n",
      "Data columns (total 11 columns):\n",
      " #   Column          Non-Null Count  Dtype \n",
      "---  ------          --------------  ----- \n",
      " 0   age             48842 non-null  int64 \n",
      " 1   workclass       47879 non-null  object\n",
      " 2   education       48842 non-null  object\n",
      " 3   marital-status  48842 non-null  object\n",
      " 4   occupation      47876 non-null  object\n",
      " 5   relationship    48842 non-null  object\n",
      " 6   race            48842 non-null  object\n",
      " 7   sex             48842 non-null  object\n",
      " 8   hours-per-week  48842 non-null  int64 \n",
      " 9   native-country  48568 non-null  object\n",
      " 10  income          48842 non-null  object\n",
      "dtypes: int64(2), object(9)\n",
      "memory usage: 4.1+ MB\n"
     ]
    },
    {
     "data": {
      "text/plain": [
       "None"
      ]
     },
     "metadata": {},
     "output_type": "display_data"
    },
    {
     "data": {
      "text/html": [
       "<div>\n",
       "<style scoped>\n",
       "    .dataframe tbody tr th:only-of-type {\n",
       "        vertical-align: middle;\n",
       "    }\n",
       "\n",
       "    .dataframe tbody tr th {\n",
       "        vertical-align: top;\n",
       "    }\n",
       "\n",
       "    .dataframe thead th {\n",
       "        text-align: right;\n",
       "    }\n",
       "</style>\n",
       "<table border=\"1\" class=\"dataframe\">\n",
       "  <thead>\n",
       "    <tr style=\"text-align: right;\">\n",
       "      <th></th>\n",
       "      <th>age</th>\n",
       "      <th>hours-per-week</th>\n",
       "    </tr>\n",
       "  </thead>\n",
       "  <tbody>\n",
       "    <tr>\n",
       "      <th>count</th>\n",
       "      <td>48842.000000</td>\n",
       "      <td>48842.000000</td>\n",
       "    </tr>\n",
       "    <tr>\n",
       "      <th>mean</th>\n",
       "      <td>38.643585</td>\n",
       "      <td>40.422382</td>\n",
       "    </tr>\n",
       "    <tr>\n",
       "      <th>std</th>\n",
       "      <td>13.710510</td>\n",
       "      <td>12.391444</td>\n",
       "    </tr>\n",
       "    <tr>\n",
       "      <th>min</th>\n",
       "      <td>17.000000</td>\n",
       "      <td>1.000000</td>\n",
       "    </tr>\n",
       "    <tr>\n",
       "      <th>25%</th>\n",
       "      <td>28.000000</td>\n",
       "      <td>40.000000</td>\n",
       "    </tr>\n",
       "    <tr>\n",
       "      <th>50%</th>\n",
       "      <td>37.000000</td>\n",
       "      <td>40.000000</td>\n",
       "    </tr>\n",
       "    <tr>\n",
       "      <th>75%</th>\n",
       "      <td>48.000000</td>\n",
       "      <td>45.000000</td>\n",
       "    </tr>\n",
       "    <tr>\n",
       "      <th>max</th>\n",
       "      <td>90.000000</td>\n",
       "      <td>99.000000</td>\n",
       "    </tr>\n",
       "  </tbody>\n",
       "</table>\n",
       "</div>"
      ],
      "text/plain": [
       "                age  hours-per-week\n",
       "count  48842.000000    48842.000000\n",
       "mean      38.643585       40.422382\n",
       "std       13.710510       12.391444\n",
       "min       17.000000        1.000000\n",
       "25%       28.000000       40.000000\n",
       "50%       37.000000       40.000000\n",
       "75%       48.000000       45.000000\n",
       "max       90.000000       99.000000"
      ]
     },
     "metadata": {},
     "output_type": "display_data"
    },
    {
     "data": {
      "text/html": [
       "<div>\n",
       "<style scoped>\n",
       "    .dataframe tbody tr th:only-of-type {\n",
       "        vertical-align: middle;\n",
       "    }\n",
       "\n",
       "    .dataframe tbody tr th {\n",
       "        vertical-align: top;\n",
       "    }\n",
       "\n",
       "    .dataframe thead th {\n",
       "        text-align: right;\n",
       "    }\n",
       "</style>\n",
       "<table border=\"1\" class=\"dataframe\">\n",
       "  <thead>\n",
       "    <tr style=\"text-align: right;\">\n",
       "      <th></th>\n",
       "      <th>age</th>\n",
       "      <th>workclass</th>\n",
       "      <th>education</th>\n",
       "      <th>marital-status</th>\n",
       "      <th>occupation</th>\n",
       "      <th>relationship</th>\n",
       "      <th>race</th>\n",
       "      <th>sex</th>\n",
       "      <th>hours-per-week</th>\n",
       "      <th>native-country</th>\n",
       "      <th>income</th>\n",
       "    </tr>\n",
       "  </thead>\n",
       "  <tbody>\n",
       "    <tr>\n",
       "      <th>0</th>\n",
       "      <td>39</td>\n",
       "      <td>State-gov</td>\n",
       "      <td>Bachelors</td>\n",
       "      <td>Never-married</td>\n",
       "      <td>Adm-clerical</td>\n",
       "      <td>Not-in-family</td>\n",
       "      <td>White</td>\n",
       "      <td>Male</td>\n",
       "      <td>40</td>\n",
       "      <td>United-States</td>\n",
       "      <td>&lt;=50K</td>\n",
       "    </tr>\n",
       "    <tr>\n",
       "      <th>1</th>\n",
       "      <td>50</td>\n",
       "      <td>Self-emp-not-inc</td>\n",
       "      <td>Bachelors</td>\n",
       "      <td>Married-civ-spouse</td>\n",
       "      <td>Exec-managerial</td>\n",
       "      <td>Husband</td>\n",
       "      <td>White</td>\n",
       "      <td>Male</td>\n",
       "      <td>13</td>\n",
       "      <td>United-States</td>\n",
       "      <td>&lt;=50K</td>\n",
       "    </tr>\n",
       "    <tr>\n",
       "      <th>2</th>\n",
       "      <td>38</td>\n",
       "      <td>Private</td>\n",
       "      <td>HS-grad</td>\n",
       "      <td>Divorced</td>\n",
       "      <td>Handlers-cleaners</td>\n",
       "      <td>Not-in-family</td>\n",
       "      <td>White</td>\n",
       "      <td>Male</td>\n",
       "      <td>40</td>\n",
       "      <td>United-States</td>\n",
       "      <td>&lt;=50K</td>\n",
       "    </tr>\n",
       "    <tr>\n",
       "      <th>3</th>\n",
       "      <td>53</td>\n",
       "      <td>Private</td>\n",
       "      <td>11th</td>\n",
       "      <td>Married-civ-spouse</td>\n",
       "      <td>Handlers-cleaners</td>\n",
       "      <td>Husband</td>\n",
       "      <td>Black</td>\n",
       "      <td>Male</td>\n",
       "      <td>40</td>\n",
       "      <td>United-States</td>\n",
       "      <td>&lt;=50K</td>\n",
       "    </tr>\n",
       "    <tr>\n",
       "      <th>4</th>\n",
       "      <td>28</td>\n",
       "      <td>Private</td>\n",
       "      <td>Bachelors</td>\n",
       "      <td>Married-civ-spouse</td>\n",
       "      <td>Prof-specialty</td>\n",
       "      <td>Wife</td>\n",
       "      <td>Black</td>\n",
       "      <td>Female</td>\n",
       "      <td>40</td>\n",
       "      <td>Cuba</td>\n",
       "      <td>&lt;=50K</td>\n",
       "    </tr>\n",
       "  </tbody>\n",
       "</table>\n",
       "</div>"
      ],
      "text/plain": [
       "   age         workclass  education      marital-status         occupation  \\\n",
       "0   39         State-gov  Bachelors       Never-married       Adm-clerical   \n",
       "1   50  Self-emp-not-inc  Bachelors  Married-civ-spouse    Exec-managerial   \n",
       "2   38           Private    HS-grad            Divorced  Handlers-cleaners   \n",
       "3   53           Private       11th  Married-civ-spouse  Handlers-cleaners   \n",
       "4   28           Private  Bachelors  Married-civ-spouse     Prof-specialty   \n",
       "\n",
       "    relationship   race     sex  hours-per-week native-country income  \n",
       "0  Not-in-family  White    Male              40  United-States  <=50K  \n",
       "1        Husband  White    Male              13  United-States  <=50K  \n",
       "2  Not-in-family  White    Male              40  United-States  <=50K  \n",
       "3        Husband  Black    Male              40  United-States  <=50K  \n",
       "4           Wife  Black  Female              40           Cuba  <=50K  "
      ]
     },
     "execution_count": 4,
     "metadata": {},
     "output_type": "execute_result"
    }
   ],
   "source": [
    "# dropping irrelevant columns, and exploring the data\n",
    "\n",
    "incomep.drop([\"education-num\", \"capital-gain\", \"capital-loss\", \"fnlwgt\"], axis=1, inplace= True)\n",
    "display(incomep.info())\n",
    "display(incomep.describe())\n",
    "incomep.head()"
   ]
  },
  {
   "cell_type": "code",
   "execution_count": 5,
   "id": "340ad1f4",
   "metadata": {},
   "outputs": [],
   "source": [
    "# renaming the column names into a python format\n",
    "\n",
    "incomep= incomep.rename(columns={\"marital-status\":\"marital_status\", \"hours-per-week\":\"hours_per_week\", \"native-country\":\"native_country\"})"
   ]
  },
  {
   "cell_type": "code",
   "execution_count": 6,
   "id": "ce3191f8",
   "metadata": {},
   "outputs": [
    {
     "data": {
      "text/plain": [
       "(48842, 11)"
      ]
     },
     "execution_count": 6,
     "metadata": {},
     "output_type": "execute_result"
    }
   ],
   "source": [
    "incomep.shape  #checking the number of rows and columns of the data set"
   ]
  },
  {
   "cell_type": "code",
   "execution_count": 7,
   "id": "27444ef8",
   "metadata": {},
   "outputs": [
    {
     "data": {
      "text/plain": [
       "age                 0\n",
       "workclass         963\n",
       "education           0\n",
       "marital_status      0\n",
       "occupation        966\n",
       "relationship        0\n",
       "race                0\n",
       "sex                 0\n",
       "hours_per_week      0\n",
       "native_country    274\n",
       "income              0\n",
       "dtype: int64"
      ]
     },
     "execution_count": 7,
     "metadata": {},
     "output_type": "execute_result"
    }
   ],
   "source": [
    "# checking for missing values\n",
    "\n",
    "incomep.isna().sum()"
   ]
  },
  {
   "cell_type": "code",
   "execution_count": 8,
   "id": "4aa809d0",
   "metadata": {},
   "outputs": [],
   "source": [
    "# dropping the missing values\n",
    "\n",
    "incomep.dropna(inplace=True)\n",
    "incomep= incomep.reset_index(drop=True)"
   ]
  },
  {
   "cell_type": "code",
   "execution_count": 9,
   "id": "dbf8463a",
   "metadata": {},
   "outputs": [
    {
     "data": {
      "text/plain": [
       "age               0\n",
       "workclass         0\n",
       "education         0\n",
       "marital_status    0\n",
       "occupation        0\n",
       "relationship      0\n",
       "race              0\n",
       "sex               0\n",
       "hours_per_week    0\n",
       "native_country    0\n",
       "income            0\n",
       "dtype: int64"
      ]
     },
     "execution_count": 9,
     "metadata": {},
     "output_type": "execute_result"
    }
   ],
   "source": [
    "# checking if the missing values have been dealt with\n",
    "\n",
    "incomep.isna().sum()"
   ]
  },
  {
   "cell_type": "code",
   "execution_count": 10,
   "id": "0b5af1ce",
   "metadata": {},
   "outputs": [
    {
     "data": {
      "text/plain": [
       "(47621, 11)"
      ]
     },
     "execution_count": 10,
     "metadata": {},
     "output_type": "execute_result"
    }
   ],
   "source": [
    "incomep.shape"
   ]
  },
  {
   "cell_type": "markdown",
   "id": "26fcde93",
   "metadata": {},
   "source": [
    "- ### 1.5. Exploratory Data analysis"
   ]
  },
  {
   "cell_type": "code",
   "execution_count": 11,
   "id": "ae501539",
   "metadata": {},
   "outputs": [
    {
     "data": {
      "text/plain": [
       "Prof-specialty       6110\n",
       "Craft-repair         6089\n",
       "Exec-managerial      6058\n",
       "Adm-clerical         5589\n",
       "Sales                5474\n",
       "Other-service        4891\n",
       "Machine-op-inspct    3006\n",
       "Transport-moving     2341\n",
       "Handlers-cleaners    2066\n",
       "?                    1843\n",
       "Farming-fishing      1485\n",
       "Tech-support         1436\n",
       "Protective-serv       981\n",
       "Priv-house-serv       238\n",
       "Armed-Forces           14\n",
       "Name: occupation, dtype: int64"
      ]
     },
     "execution_count": 11,
     "metadata": {},
     "output_type": "execute_result"
    }
   ],
   "source": [
    "# number of job types in the category\n",
    "\n",
    "incomep['occupation'].value_counts()"
   ]
  },
  {
   "cell_type": "code",
   "execution_count": 11,
   "id": "72f77dd8",
   "metadata": {},
   "outputs": [],
   "source": [
    "# removing the unknown job type \"?\"\n",
    "\n",
    "incomep= incomep.drop(incomep[incomep['occupation']=='?'].index)"
   ]
  },
  {
   "cell_type": "code",
   "execution_count": 12,
   "id": "b3305c5c",
   "metadata": {},
   "outputs": [
    {
     "data": {
      "text/plain": [
       "Prof-specialty       6110\n",
       "Craft-repair         6089\n",
       "Exec-managerial      6058\n",
       "Adm-clerical         5589\n",
       "Sales                5474\n",
       "Other-service        4891\n",
       "Machine-op-inspct    3006\n",
       "Transport-moving     2341\n",
       "Handlers-cleaners    2066\n",
       "Farming-fishing      1485\n",
       "Tech-support         1436\n",
       "Protective-serv       981\n",
       "Priv-house-serv       238\n",
       "Armed-Forces           14\n",
       "Name: occupation, dtype: int64"
      ]
     },
     "execution_count": 12,
     "metadata": {},
     "output_type": "execute_result"
    }
   ],
   "source": [
    "incomep['occupation'].value_counts() # number of job types in the category"
   ]
  },
  {
   "cell_type": "markdown",
   "id": "7c5383e8",
   "metadata": {},
   "source": [
    "### Interpretation\n",
    "\n",
    "from the above output, it can be seen that one of the job types is '?', so removing it from the occupation column, 14 job types are left with **Prof-specialty** being the category with the highest count, and **Armed-Forces** being the category with the lowest count, this implies that more of the respondents under that particular census survey are in academia, or a specialized field (university professor, research scientist, lawyer, engineer, consultant, medical specialist...)."
   ]
  },
  {
   "cell_type": "code",
   "execution_count": 14,
   "id": "d33a7d8a",
   "metadata": {},
   "outputs": [
    {
     "data": {
      "text/plain": [
       "Married-civ-spouse       21329\n",
       "Never-married            14784\n",
       "Divorced                  6341\n",
       "Separated                 1431\n",
       "Widowed                   1290\n",
       "Married-spouse-absent      571\n",
       "Married-AF-spouse           32\n",
       "Name: marital_status, dtype: int64"
      ]
     },
     "execution_count": 14,
     "metadata": {},
     "output_type": "execute_result"
    }
   ],
   "source": [
    "# marital status for the respondents in the different categories\n",
    "\n",
    "incomep['marital_status'].value_counts()"
   ]
  },
  {
   "cell_type": "code",
   "execution_count": 15,
   "id": "38d6c122",
   "metadata": {},
   "outputs": [
    {
     "data": {
      "text/plain": [
       "HS-grad         14911\n",
       "Some-college     9996\n",
       "Bachelors        7708\n",
       "Masters          2562\n",
       "Assoc-voc        1973\n",
       "11th             1627\n",
       "Assoc-acdm       1519\n",
       "10th             1234\n",
       "7th-8th           839\n",
       "Prof-school       801\n",
       "9th               684\n",
       "12th              593\n",
       "Doctorate         567\n",
       "5th-6th           464\n",
       "1st-4th           227\n",
       "Preschool          73\n",
       "Name: education, dtype: int64"
      ]
     },
     "execution_count": 15,
     "metadata": {},
     "output_type": "execute_result"
    }
   ],
   "source": [
    "# educational level of the respondents\n",
    "\n",
    "incomep['education'].value_counts()"
   ]
  },
  {
   "cell_type": "markdown",
   "id": "a580de8e",
   "metadata": {},
   "source": [
    "### Interpretation\n",
    "\n",
    "from the marital status and education level count, it can be seen that 21,329 of the respondents are married, and 14,784 are not married, which could be in relation with some bachelor and college count, also, the data shows that most of the individuals have attained high levels of education, which **might be a factor** in the income received yearly in dollars.\n"
   ]
  },
  {
   "cell_type": "code",
   "execution_count": 16,
   "id": "e361c714",
   "metadata": {},
   "outputs": [
    {
     "name": "stdout",
     "output_type": "stream",
     "text": [
      "Male      30935\n",
      "Female    14843\n",
      "Name: sex, dtype: int64\n"
     ]
    }
   ],
   "source": [
    "# Gender count\n",
    "\n",
    "dem_gender= incomep['sex'].value_counts()\n",
    "print(dem_gender)"
   ]
  },
  {
   "cell_type": "code",
   "execution_count": 17,
   "id": "8724a2a4",
   "metadata": {},
   "outputs": [
    {
     "data": {
      "image/png": "[encoded data removed]",
      "text/plain": [
       "<Figure size 576x360 with 1 Axes>"
      ]
     },
     "metadata": {},
     "output_type": "display_data"
    }
   ],
   "source": [
    "# plotting a bar chart to represent the gender count\n",
    "\n",
    "dem_gender= incomep['sex'].value_counts()\n",
    "\n",
    "x= dem_gender.index\n",
    "y= dem_gender.values\n",
    "\n",
    "plt.figure(figsize=(8,5))\n",
    "plt.bar(x,y, width=0.5)\n",
    "plt.title('demographics-gender')\n",
    "plt.xlabel('gender')\n",
    "plt.ylabel('count')\n",
    "plt.show()"
   ]
  },
  {
   "cell_type": "markdown",
   "id": "6eee3dca",
   "metadata": {},
   "source": [
    "### Interpretation\n",
    "\n",
    "The plot above shows that the male respondents had a higher count than the female respondents, which implies that the geographical region where the census was conducted from had a higher number of males."
   ]
  },
  {
   "cell_type": "code",
   "execution_count": 18,
   "id": "073a381d",
   "metadata": {},
   "outputs": [
    {
     "data": {
      "image/png": "[encoded data removed]",
      "text/plain": [
       "<Figure size 576x360 with 1 Axes>"
      ]
     },
     "metadata": {},
     "output_type": "display_data"
    }
   ],
   "source": [
    "# a bar chart showing the number of job types in the occupation column\n",
    "\n",
    "dem_occupation= incomep['occupation'].value_counts()\n",
    "\n",
    "x= dem_occupation.index\n",
    "y= dem_occupation.values\n",
    "\n",
    "plt.figure(figsize=(8,5))\n",
    "plt.bar(x,y, width=0.5)\n",
    "plt.xticks(rotation=90)\n",
    "plt.title('demographics-occupation')\n",
    "plt.xlabel('occupation')\n",
    "plt.ylabel('count')\n",
    "plt.show()"
   ]
  },
  {
   "cell_type": "code",
   "execution_count": 16,
   "id": "d35f598a",
   "metadata": {},
   "outputs": [
    {
     "name": "stdout",
     "output_type": "stream",
     "text": [
      "United-States                 41292\n",
      "Mexico                          903\n",
      "?                               556\n",
      "Philippines                     283\n",
      "Germany                         193\n",
      "Puerto-Rico                     175\n",
      "Canada                          163\n",
      "El-Salvador                     147\n",
      "India                           147\n",
      "Cuba                            133\n",
      "England                         119\n",
      "China                           113\n",
      "Jamaica                         103\n",
      "South                           101\n",
      "Italy                           100\n",
      "Dominican-Republic               97\n",
      "Japan                            89\n",
      "Guatemala                        86\n",
      "Vietnam                          83\n",
      "Columbia                         82\n",
      "Poland                           81\n",
      "Haiti                            69\n",
      "Portugal                         62\n",
      "Iran                             56\n",
      "Taiwan                           55\n",
      "Greece                           49\n",
      "Nicaragua                        48\n",
      "Peru                             45\n",
      "Ecuador                          43\n",
      "Ireland                          36\n",
      "France                           36\n",
      "Thailand                         29\n",
      "Hong                             28\n",
      "Cambodia                         26\n",
      "Trinadad&Tobago                  26\n",
      "Yugoslavia                       23\n",
      "Outlying-US(Guam-USVI-etc)       22\n",
      "Laos                             21\n",
      "Scotland                         20\n",
      "Honduras                         19\n",
      "Hungary                          18\n",
      "Holand-Netherlands                1\n",
      "Name: native_country, dtype: int64\n"
     ]
    }
   ],
   "source": [
    "# country count \n",
    "\n",
    "country= incomep['native_country'].value_counts()\n",
    "print(country)"
   ]
  },
  {
   "cell_type": "code",
   "execution_count": 13,
   "id": "8affeb92",
   "metadata": {},
   "outputs": [],
   "source": [
    "# removing the unknown native_country type \"?\"\n",
    "\n",
    "incomep= incomep.drop(incomep[incomep['native_country']=='?'].index)"
   ]
  },
  {
   "cell_type": "code",
   "execution_count": 14,
   "id": "ad590fa5",
   "metadata": {},
   "outputs": [
    {
     "name": "stdout",
     "output_type": "stream",
     "text": [
      "United-States                 41292\n",
      "Mexico                          903\n",
      "Philippines                     283\n",
      "Germany                         193\n",
      "Puerto-Rico                     175\n",
      "Canada                          163\n",
      "El-Salvador                     147\n",
      "India                           147\n",
      "Cuba                            133\n",
      "England                         119\n",
      "China                           113\n",
      "Jamaica                         103\n",
      "South                           101\n",
      "Italy                           100\n",
      "Dominican-Republic               97\n",
      "Japan                            89\n",
      "Guatemala                        86\n",
      "Vietnam                          83\n",
      "Columbia                         82\n",
      "Poland                           81\n",
      "Haiti                            69\n",
      "Portugal                         62\n",
      "Iran                             56\n",
      "Taiwan                           55\n",
      "Greece                           49\n",
      "Nicaragua                        48\n",
      "Peru                             45\n",
      "Ecuador                          43\n",
      "Ireland                          36\n",
      "France                           36\n",
      "Thailand                         29\n",
      "Hong                             28\n",
      "Cambodia                         26\n",
      "Trinadad&Tobago                  26\n",
      "Yugoslavia                       23\n",
      "Outlying-US(Guam-USVI-etc)       22\n",
      "Laos                             21\n",
      "Scotland                         20\n",
      "Honduras                         19\n",
      "Hungary                          18\n",
      "Holand-Netherlands                1\n",
      "Name: native_country, dtype: int64\n"
     ]
    }
   ],
   "source": [
    "country= incomep['native_country'].value_counts() # cross-checking\n",
    "print(country)"
   ]
  },
  {
   "cell_type": "code",
   "execution_count": 19,
   "id": "485a70a2",
   "metadata": {},
   "outputs": [
    {
     "data": {
      "image/png": "[encoded data removed]",
      "text/plain": [
       "<Figure size 720x504 with 1 Axes>"
      ]
     },
     "metadata": {},
     "output_type": "display_data"
    }
   ],
   "source": [
    "# a bar chart showing the country count\n",
    "\n",
    "country= incomep['native_country'].value_counts()\n",
    "\n",
    "x= country.index\n",
    "y= country.values\n",
    "\n",
    "plt.figure(figsize=(10,7))\n",
    "plt.bar(x,y, width=0.5)\n",
    "plt.xticks(rotation=90)\n",
    "plt.title('Countries')\n",
    "plt.xlabel('country')\n",
    "plt.ylabel('count')\n",
    "plt.show()"
   ]
  },
  {
   "cell_type": "code",
   "execution_count": 20,
   "id": "8d5a4e99",
   "metadata": {},
   "outputs": [
    {
     "name": "stdout",
     "output_type": "stream",
     "text": [
      "<=50K    34014\n",
      ">50K     11208\n",
      "Name: income, dtype: int64\n"
     ]
    }
   ],
   "source": [
    "i_income= incomep['income'].value_counts()\n",
    "print(i_income)"
   ]
  },
  {
   "cell_type": "code",
   "execution_count": 21,
   "id": "7e679491",
   "metadata": {},
   "outputs": [
    {
     "data": {
      "text/plain": [
       "(45222, 11)"
      ]
     },
     "execution_count": 21,
     "metadata": {},
     "output_type": "execute_result"
    }
   ],
   "source": [
    "incomep.shape"
   ]
  },
  {
   "cell_type": "markdown",
   "id": "4a308dde",
   "metadata": {},
   "source": [
    "### Interpretation\n",
    "\n",
    "from native country and income counts, it can be said that the census was conducted in 41 countries with United States having the highest count, and Holand-Netherlands having the least count. Also, out of the 45,222 respondents, 34,014 received less than or equal to 50K/yr in dollars. while 11,208 received more than 50K/yr in dollars.\n"
   ]
  },
  {
   "cell_type": "markdown",
   "id": "b901529b",
   "metadata": {},
   "source": [
    "- ### 1.6. Data preprocessing"
   ]
  },
  {
   "cell_type": "code",
   "execution_count": 15,
   "id": "c44d7cf8",
   "metadata": {},
   "outputs": [],
   "source": [
    "#separating the data set into two categories\n",
    "\n",
    "cat_variables = incomep.select_dtypes(exclude=np.number).drop(['income','education'], axis=1) # since the income and education variables will be coded differently\n",
    "num_variables = incomep.select_dtypes(include=np.number)"
   ]
  },
  {
   "cell_type": "code",
   "execution_count": 16,
   "id": "22f6cb7a",
   "metadata": {},
   "outputs": [
    {
     "data": {
      "text/html": [
       "<div>\n",
       "<style scoped>\n",
       "    .dataframe tbody tr th:only-of-type {\n",
       "        vertical-align: middle;\n",
       "    }\n",
       "\n",
       "    .dataframe tbody tr th {\n",
       "        vertical-align: top;\n",
       "    }\n",
       "\n",
       "    .dataframe thead th {\n",
       "        text-align: right;\n",
       "    }\n",
       "</style>\n",
       "<table border=\"1\" class=\"dataframe\">\n",
       "  <thead>\n",
       "    <tr style=\"text-align: right;\">\n",
       "      <th></th>\n",
       "      <th>workclass</th>\n",
       "      <th>marital_status</th>\n",
       "      <th>occupation</th>\n",
       "      <th>relationship</th>\n",
       "      <th>race</th>\n",
       "      <th>sex</th>\n",
       "      <th>native_country</th>\n",
       "    </tr>\n",
       "  </thead>\n",
       "  <tbody>\n",
       "    <tr>\n",
       "      <th>0</th>\n",
       "      <td>State-gov</td>\n",
       "      <td>Never-married</td>\n",
       "      <td>Adm-clerical</td>\n",
       "      <td>Not-in-family</td>\n",
       "      <td>White</td>\n",
       "      <td>Male</td>\n",
       "      <td>United-States</td>\n",
       "    </tr>\n",
       "    <tr>\n",
       "      <th>1</th>\n",
       "      <td>Self-emp-not-inc</td>\n",
       "      <td>Married-civ-spouse</td>\n",
       "      <td>Exec-managerial</td>\n",
       "      <td>Husband</td>\n",
       "      <td>White</td>\n",
       "      <td>Male</td>\n",
       "      <td>United-States</td>\n",
       "    </tr>\n",
       "    <tr>\n",
       "      <th>2</th>\n",
       "      <td>Private</td>\n",
       "      <td>Divorced</td>\n",
       "      <td>Handlers-cleaners</td>\n",
       "      <td>Not-in-family</td>\n",
       "      <td>White</td>\n",
       "      <td>Male</td>\n",
       "      <td>United-States</td>\n",
       "    </tr>\n",
       "    <tr>\n",
       "      <th>3</th>\n",
       "      <td>Private</td>\n",
       "      <td>Married-civ-spouse</td>\n",
       "      <td>Handlers-cleaners</td>\n",
       "      <td>Husband</td>\n",
       "      <td>Black</td>\n",
       "      <td>Male</td>\n",
       "      <td>United-States</td>\n",
       "    </tr>\n",
       "    <tr>\n",
       "      <th>4</th>\n",
       "      <td>Private</td>\n",
       "      <td>Married-civ-spouse</td>\n",
       "      <td>Prof-specialty</td>\n",
       "      <td>Wife</td>\n",
       "      <td>Black</td>\n",
       "      <td>Female</td>\n",
       "      <td>Cuba</td>\n",
       "    </tr>\n",
       "    <tr>\n",
       "      <th>...</th>\n",
       "      <td>...</td>\n",
       "      <td>...</td>\n",
       "      <td>...</td>\n",
       "      <td>...</td>\n",
       "      <td>...</td>\n",
       "      <td>...</td>\n",
       "      <td>...</td>\n",
       "    </tr>\n",
       "    <tr>\n",
       "      <th>47616</th>\n",
       "      <td>Private</td>\n",
       "      <td>Never-married</td>\n",
       "      <td>Prof-specialty</td>\n",
       "      <td>Own-child</td>\n",
       "      <td>White</td>\n",
       "      <td>Male</td>\n",
       "      <td>United-States</td>\n",
       "    </tr>\n",
       "    <tr>\n",
       "      <th>47617</th>\n",
       "      <td>Private</td>\n",
       "      <td>Divorced</td>\n",
       "      <td>Prof-specialty</td>\n",
       "      <td>Not-in-family</td>\n",
       "      <td>White</td>\n",
       "      <td>Female</td>\n",
       "      <td>United-States</td>\n",
       "    </tr>\n",
       "    <tr>\n",
       "      <th>47618</th>\n",
       "      <td>Private</td>\n",
       "      <td>Married-civ-spouse</td>\n",
       "      <td>Prof-specialty</td>\n",
       "      <td>Husband</td>\n",
       "      <td>White</td>\n",
       "      <td>Male</td>\n",
       "      <td>United-States</td>\n",
       "    </tr>\n",
       "    <tr>\n",
       "      <th>47619</th>\n",
       "      <td>Private</td>\n",
       "      <td>Divorced</td>\n",
       "      <td>Adm-clerical</td>\n",
       "      <td>Own-child</td>\n",
       "      <td>Asian-Pac-Islander</td>\n",
       "      <td>Male</td>\n",
       "      <td>United-States</td>\n",
       "    </tr>\n",
       "    <tr>\n",
       "      <th>47620</th>\n",
       "      <td>Self-emp-inc</td>\n",
       "      <td>Married-civ-spouse</td>\n",
       "      <td>Exec-managerial</td>\n",
       "      <td>Husband</td>\n",
       "      <td>White</td>\n",
       "      <td>Male</td>\n",
       "      <td>United-States</td>\n",
       "    </tr>\n",
       "  </tbody>\n",
       "</table>\n",
       "<p>45222 rows × 7 columns</p>\n",
       "</div>"
      ],
      "text/plain": [
       "              workclass      marital_status         occupation   relationship  \\\n",
       "0             State-gov       Never-married       Adm-clerical  Not-in-family   \n",
       "1      Self-emp-not-inc  Married-civ-spouse    Exec-managerial        Husband   \n",
       "2               Private            Divorced  Handlers-cleaners  Not-in-family   \n",
       "3               Private  Married-civ-spouse  Handlers-cleaners        Husband   \n",
       "4               Private  Married-civ-spouse     Prof-specialty           Wife   \n",
       "...                 ...                 ...                ...            ...   \n",
       "47616           Private       Never-married     Prof-specialty      Own-child   \n",
       "47617           Private            Divorced     Prof-specialty  Not-in-family   \n",
       "47618           Private  Married-civ-spouse     Prof-specialty        Husband   \n",
       "47619           Private            Divorced       Adm-clerical      Own-child   \n",
       "47620      Self-emp-inc  Married-civ-spouse    Exec-managerial        Husband   \n",
       "\n",
       "                     race     sex native_country  \n",
       "0                   White    Male  United-States  \n",
       "1                   White    Male  United-States  \n",
       "2                   White    Male  United-States  \n",
       "3                   Black    Male  United-States  \n",
       "4                   Black  Female           Cuba  \n",
       "...                   ...     ...            ...  \n",
       "47616               White    Male  United-States  \n",
       "47617               White  Female  United-States  \n",
       "47618               White    Male  United-States  \n",
       "47619  Asian-Pac-Islander    Male  United-States  \n",
       "47620               White    Male  United-States  \n",
       "\n",
       "[45222 rows x 7 columns]"
      ]
     },
     "execution_count": 16,
     "metadata": {},
     "output_type": "execute_result"
    }
   ],
   "source": [
    "# calling the categorical variables\n",
    "\n",
    "cat_variables"
   ]
  },
  {
   "cell_type": "code",
   "execution_count": 17,
   "id": "abccdc2f",
   "metadata": {},
   "outputs": [
    {
     "data": {
      "text/html": [
       "<div>\n",
       "<style scoped>\n",
       "    .dataframe tbody tr th:only-of-type {\n",
       "        vertical-align: middle;\n",
       "    }\n",
       "\n",
       "    .dataframe tbody tr th {\n",
       "        vertical-align: top;\n",
       "    }\n",
       "\n",
       "    .dataframe thead th {\n",
       "        text-align: right;\n",
       "    }\n",
       "</style>\n",
       "<table border=\"1\" class=\"dataframe\">\n",
       "  <thead>\n",
       "    <tr style=\"text-align: right;\">\n",
       "      <th></th>\n",
       "      <th>age</th>\n",
       "      <th>hours_per_week</th>\n",
       "    </tr>\n",
       "  </thead>\n",
       "  <tbody>\n",
       "    <tr>\n",
       "      <th>0</th>\n",
       "      <td>39</td>\n",
       "      <td>40</td>\n",
       "    </tr>\n",
       "    <tr>\n",
       "      <th>1</th>\n",
       "      <td>50</td>\n",
       "      <td>13</td>\n",
       "    </tr>\n",
       "    <tr>\n",
       "      <th>2</th>\n",
       "      <td>38</td>\n",
       "      <td>40</td>\n",
       "    </tr>\n",
       "    <tr>\n",
       "      <th>3</th>\n",
       "      <td>53</td>\n",
       "      <td>40</td>\n",
       "    </tr>\n",
       "    <tr>\n",
       "      <th>4</th>\n",
       "      <td>28</td>\n",
       "      <td>40</td>\n",
       "    </tr>\n",
       "    <tr>\n",
       "      <th>...</th>\n",
       "      <td>...</td>\n",
       "      <td>...</td>\n",
       "    </tr>\n",
       "    <tr>\n",
       "      <th>47616</th>\n",
       "      <td>33</td>\n",
       "      <td>40</td>\n",
       "    </tr>\n",
       "    <tr>\n",
       "      <th>47617</th>\n",
       "      <td>39</td>\n",
       "      <td>36</td>\n",
       "    </tr>\n",
       "    <tr>\n",
       "      <th>47618</th>\n",
       "      <td>38</td>\n",
       "      <td>50</td>\n",
       "    </tr>\n",
       "    <tr>\n",
       "      <th>47619</th>\n",
       "      <td>44</td>\n",
       "      <td>40</td>\n",
       "    </tr>\n",
       "    <tr>\n",
       "      <th>47620</th>\n",
       "      <td>35</td>\n",
       "      <td>60</td>\n",
       "    </tr>\n",
       "  </tbody>\n",
       "</table>\n",
       "<p>45222 rows × 2 columns</p>\n",
       "</div>"
      ],
      "text/plain": [
       "       age  hours_per_week\n",
       "0       39              40\n",
       "1       50              13\n",
       "2       38              40\n",
       "3       53              40\n",
       "4       28              40\n",
       "...    ...             ...\n",
       "47616   33              40\n",
       "47617   39              36\n",
       "47618   38              50\n",
       "47619   44              40\n",
       "47620   35              60\n",
       "\n",
       "[45222 rows x 2 columns]"
      ]
     },
     "execution_count": 17,
     "metadata": {},
     "output_type": "execute_result"
    }
   ],
   "source": [
    "# calling the numerical variables\n",
    "\n",
    "num_variables"
   ]
  },
  {
   "cell_type": "code",
   "execution_count": 18,
   "id": "0909171c",
   "metadata": {},
   "outputs": [],
   "source": [
    "# encoding the variables\n",
    "\n",
    "# encoding the target variable\n",
    "label_encoder= LabelEncoder()\n",
    "label= incomep['income']\n",
    "lab_enc= label_encoder.fit_transform(label)\n",
    "\n",
    "# encoding the education levels \n",
    "ordinal_encoder= OrdinalEncoder()\n",
    "ord_enc= ordinal_encoder.fit_transform(incomep[['education']])\n",
    "ord_enc_df = pd.DataFrame(ord_enc, columns=['education'])  # Create DataFrame for education\n",
    "\n",
    "    \n",
    "# encoding the remaining categorical variables   \n",
    "one_hot_encoder= OneHotEncoder(sparse= False)\n",
    "encoded_d= one_hot_encoder.fit_transform(cat_variables)\n",
    "ohe_features= pd.DataFrame(encoded_d)\n",
    "\n"
   ]
  },
  {
   "cell_type": "markdown",
   "id": "f103c6b3",
   "metadata": {},
   "source": [
    "#### Analysis"
   ]
  },
  {
   "cell_type": "code",
   "execution_count": 47,
   "id": "81cc678e",
   "metadata": {},
   "outputs": [
    {
     "data": {
      "image/png": "[encoded data removed]",
      "text/plain": [
       "<Figure size 720x288 with 2 Axes>"
      ]
     },
     "metadata": {
      "needs_background": "light"
     },
     "output_type": "display_data"
    }
   ],
   "source": [
    "# plotting a heat map to show the correlation between education levels and income\n",
    "\n",
    "crosstab= pd.crosstab(incomep['education'],incomep['income'])\n",
    "plt.figure(figsize= (10,4))\n",
    "sns.heatmap(crosstab, cmap='viridis', annot= True)\n",
    "plt.title('Education level vs salary heat map')\n",
    "plt.xlabel('income')\n",
    "plt.ylabel('education level')\n",
    "plt.show()"
   ]
  },
  {
   "cell_type": "code",
   "execution_count": 51,
   "id": "572ea8d2",
   "metadata": {},
   "outputs": [
    {
     "name": "stdout",
     "output_type": "stream",
     "text": [
      "['10th' '11th' '12th' '1st-4th' '5th-6th' '7th-8th' '9th' 'Assoc-acdm'\n",
      " 'Assoc-voc' 'Bachelors' 'Doctorate' 'HS-grad' 'Masters' 'Preschool'\n",
      " 'Prof-school' 'Some-college']\n"
     ]
    }
   ],
   "source": [
    "en= ordinal_encoder.categories_[0]\n",
    "print(en)"
   ]
  },
  {
   "cell_type": "markdown",
   "id": "0ea0c8cb",
   "metadata": {},
   "source": [
    "**index** :    **education level**\n",
    "- 0        :       10th\n",
    "- 1        :      11th\n",
    "- 2        :      12th\n",
    "- 3        :     1st-4th\n",
    "- 4        :     5th-6th\n",
    "- 5        :     7th-8th\n",
    "- 6        :     9th\n",
    "- 7        :     Assoc-acdm\n",
    "- 8        :     Assoc-voc\n",
    "- 9        :     Bachelors\n",
    "- 10       :     Doctorate\n",
    "- 11       :     HS-grad\n",
    "- 12       :     Masters\n",
    "- 13       :     Preschool\n",
    "- 14       :     Prof-school\n",
    "- 15       :     Some-college"
   ]
  },
  {
   "cell_type": "markdown",
   "id": "46fcbeaa",
   "metadata": {},
   "source": [
    " the code below was copied into the cell(markdown) to show the coding scheme used"
   ]
  },
  {
   "cell_type": "markdown",
   "id": "cc0737d9",
   "metadata": {},
   "source": [
    "\n",
    "- print(label_encoder.classes_)\n",
    "- print(incomep|'income'|.value_counts())\n",
    "\n",
    "|'<=50K'|  | '>50K'|\n",
    "\n",
    "\n",
    " - **Income**       :  **Count**\n",
    " * (<=50K) : 36080 -----index '0'\n",
    " * (>50K)  : 11541 ----- index '1'\n",
    " * Name: income, dtype: int64\n"
   ]
  },
  {
   "cell_type": "markdown",
   "id": "f9b10404",
   "metadata": {},
   "source": [
    "### Interpretation\n",
    "\n",
    "- The income was coded '0' for <= 50k with individuals being 36,080, and '1' for > 50k with individuals being 11,541, then the education levels were coded from **0 to 15** as seen in the three previous cells.\n",
    "\n",
    "\n",
    "\n",
    "####  **Color interpretation**\n",
    "- yellow = high frequency(12000)  strong associaton between education level and income \n",
    "- green = moderate frequency(7000-10000)  moderate associaton between education level and income \n",
    "- light blue = lower frequency\n",
    "- purple = low frequency\n",
    "- dark purple = lowest frequency little or no association between variables\n",
    "\n",
    "\n",
    "\n",
    "income levels coded '1' with purple, or blue color has a lower frequency of individuals earning >50k.\n"
   ]
  },
  {
   "cell_type": "code",
   "execution_count": 17,
   "id": "1646acfe",
   "metadata": {},
   "outputs": [
    {
     "data": {
      "image/png": "[encoded data removed]",
      "text/plain": [
       "<Figure size 720x432 with 1 Axes>"
      ]
     },
     "metadata": {},
     "output_type": "display_data"
    }
   ],
   "source": [
    "# plotting a barchart to show the different income earnings(>50k and <=50k) of each education level\n",
    "\n",
    "plt.figure(figsize=(10, 6))\n",
    "sns.countplot(x='education', hue='income', data=incomep)\n",
    "plt.title('Education Level vs Income')\n",
    "plt.xticks(rotation=90)\n",
    "plt.show()"
   ]
  },
  {
   "cell_type": "markdown",
   "id": "b53537a1",
   "metadata": {},
   "source": [
    "**Interpretation**\n",
    "from the heatmap and bar charts, it is observed that under the <= 50k column, the HS-grad category had more persons earning <=50k (**indicated with yellow on the heatmap, and a higher count on the bar chart**)... The above analysis interprets each education level and it's related income."
   ]
  },
  {
   "cell_type": "code",
   "execution_count": 21,
   "id": "6c2e85f7",
   "metadata": {},
   "outputs": [
    {
     "data": {
      "text/plain": [
       "marital_status_Divorced                 float64\n",
       "marital_status_Married-AF-spouse        float64\n",
       "marital_status_Married-civ-spouse       float64\n",
       "marital_status_Married-spouse-absent    float64\n",
       "marital_status_Never-married            float64\n",
       "                                         ...   \n",
       "native_country_Thailand                 float64\n",
       "native_country_Trinadad&Tobago          float64\n",
       "native_country_United-States            float64\n",
       "native_country_Vietnam                  float64\n",
       "native_country_Yugoslavia               float64\n",
       "Length: 83, dtype: object"
      ]
     },
     "execution_count": 21,
     "metadata": {},
     "output_type": "execute_result"
    }
   ],
   "source": [
    "incomep.dtypes"
   ]
  },
  {
   "cell_type": "code",
   "execution_count": 20,
   "id": "f3bab8be",
   "metadata": {},
   "outputs": [
    {
     "data": {
      "text/html": [
       "<div>\n",
       "<style scoped>\n",
       "    .dataframe tbody tr th:only-of-type {\n",
       "        vertical-align: middle;\n",
       "    }\n",
       "\n",
       "    .dataframe tbody tr th {\n",
       "        vertical-align: top;\n",
       "    }\n",
       "\n",
       "    .dataframe thead th {\n",
       "        text-align: right;\n",
       "    }\n",
       "</style>\n",
       "<table border=\"1\" class=\"dataframe\">\n",
       "  <thead>\n",
       "    <tr style=\"text-align: right;\">\n",
       "      <th></th>\n",
       "      <th>age</th>\n",
       "      <th>workclass</th>\n",
       "      <th>education</th>\n",
       "      <th>marital_status</th>\n",
       "      <th>occupation</th>\n",
       "      <th>relationship</th>\n",
       "      <th>race</th>\n",
       "      <th>sex</th>\n",
       "      <th>hours_per_week</th>\n",
       "      <th>native_country</th>\n",
       "      <th>income</th>\n",
       "    </tr>\n",
       "  </thead>\n",
       "  <tbody>\n",
       "    <tr>\n",
       "      <th>0</th>\n",
       "      <td>39</td>\n",
       "      <td>State-gov</td>\n",
       "      <td>Bachelors</td>\n",
       "      <td>Never-married</td>\n",
       "      <td>Adm-clerical</td>\n",
       "      <td>Not-in-family</td>\n",
       "      <td>White</td>\n",
       "      <td>Male</td>\n",
       "      <td>40</td>\n",
       "      <td>United-States</td>\n",
       "      <td>&lt;=50K</td>\n",
       "    </tr>\n",
       "    <tr>\n",
       "      <th>1</th>\n",
       "      <td>50</td>\n",
       "      <td>Self-emp-not-inc</td>\n",
       "      <td>Bachelors</td>\n",
       "      <td>Married-civ-spouse</td>\n",
       "      <td>Exec-managerial</td>\n",
       "      <td>Husband</td>\n",
       "      <td>White</td>\n",
       "      <td>Male</td>\n",
       "      <td>13</td>\n",
       "      <td>United-States</td>\n",
       "      <td>&lt;=50K</td>\n",
       "    </tr>\n",
       "    <tr>\n",
       "      <th>2</th>\n",
       "      <td>38</td>\n",
       "      <td>Private</td>\n",
       "      <td>HS-grad</td>\n",
       "      <td>Divorced</td>\n",
       "      <td>Handlers-cleaners</td>\n",
       "      <td>Not-in-family</td>\n",
       "      <td>White</td>\n",
       "      <td>Male</td>\n",
       "      <td>40</td>\n",
       "      <td>United-States</td>\n",
       "      <td>&lt;=50K</td>\n",
       "    </tr>\n",
       "    <tr>\n",
       "      <th>3</th>\n",
       "      <td>53</td>\n",
       "      <td>Private</td>\n",
       "      <td>11th</td>\n",
       "      <td>Married-civ-spouse</td>\n",
       "      <td>Handlers-cleaners</td>\n",
       "      <td>Husband</td>\n",
       "      <td>Black</td>\n",
       "      <td>Male</td>\n",
       "      <td>40</td>\n",
       "      <td>United-States</td>\n",
       "      <td>&lt;=50K</td>\n",
       "    </tr>\n",
       "    <tr>\n",
       "      <th>4</th>\n",
       "      <td>28</td>\n",
       "      <td>Private</td>\n",
       "      <td>Bachelors</td>\n",
       "      <td>Married-civ-spouse</td>\n",
       "      <td>Prof-specialty</td>\n",
       "      <td>Wife</td>\n",
       "      <td>Black</td>\n",
       "      <td>Female</td>\n",
       "      <td>40</td>\n",
       "      <td>Cuba</td>\n",
       "      <td>&lt;=50K</td>\n",
       "    </tr>\n",
       "    <tr>\n",
       "      <th>...</th>\n",
       "      <td>...</td>\n",
       "      <td>...</td>\n",
       "      <td>...</td>\n",
       "      <td>...</td>\n",
       "      <td>...</td>\n",
       "      <td>...</td>\n",
       "      <td>...</td>\n",
       "      <td>...</td>\n",
       "      <td>...</td>\n",
       "      <td>...</td>\n",
       "      <td>...</td>\n",
       "    </tr>\n",
       "    <tr>\n",
       "      <th>47616</th>\n",
       "      <td>33</td>\n",
       "      <td>Private</td>\n",
       "      <td>Bachelors</td>\n",
       "      <td>Never-married</td>\n",
       "      <td>Prof-specialty</td>\n",
       "      <td>Own-child</td>\n",
       "      <td>White</td>\n",
       "      <td>Male</td>\n",
       "      <td>40</td>\n",
       "      <td>United-States</td>\n",
       "      <td>&lt;=50K</td>\n",
       "    </tr>\n",
       "    <tr>\n",
       "      <th>47617</th>\n",
       "      <td>39</td>\n",
       "      <td>Private</td>\n",
       "      <td>Bachelors</td>\n",
       "      <td>Divorced</td>\n",
       "      <td>Prof-specialty</td>\n",
       "      <td>Not-in-family</td>\n",
       "      <td>White</td>\n",
       "      <td>Female</td>\n",
       "      <td>36</td>\n",
       "      <td>United-States</td>\n",
       "      <td>&lt;=50K</td>\n",
       "    </tr>\n",
       "    <tr>\n",
       "      <th>47618</th>\n",
       "      <td>38</td>\n",
       "      <td>Private</td>\n",
       "      <td>Bachelors</td>\n",
       "      <td>Married-civ-spouse</td>\n",
       "      <td>Prof-specialty</td>\n",
       "      <td>Husband</td>\n",
       "      <td>White</td>\n",
       "      <td>Male</td>\n",
       "      <td>50</td>\n",
       "      <td>United-States</td>\n",
       "      <td>&lt;=50K</td>\n",
       "    </tr>\n",
       "    <tr>\n",
       "      <th>47619</th>\n",
       "      <td>44</td>\n",
       "      <td>Private</td>\n",
       "      <td>Bachelors</td>\n",
       "      <td>Divorced</td>\n",
       "      <td>Adm-clerical</td>\n",
       "      <td>Own-child</td>\n",
       "      <td>Asian-Pac-Islander</td>\n",
       "      <td>Male</td>\n",
       "      <td>40</td>\n",
       "      <td>United-States</td>\n",
       "      <td>&lt;=50K</td>\n",
       "    </tr>\n",
       "    <tr>\n",
       "      <th>47620</th>\n",
       "      <td>35</td>\n",
       "      <td>Self-emp-inc</td>\n",
       "      <td>Bachelors</td>\n",
       "      <td>Married-civ-spouse</td>\n",
       "      <td>Exec-managerial</td>\n",
       "      <td>Husband</td>\n",
       "      <td>White</td>\n",
       "      <td>Male</td>\n",
       "      <td>60</td>\n",
       "      <td>United-States</td>\n",
       "      <td>&gt;50K</td>\n",
       "    </tr>\n",
       "  </tbody>\n",
       "</table>\n",
       "<p>45778 rows × 11 columns</p>\n",
       "</div>"
      ],
      "text/plain": [
       "       age         workclass  education      marital_status  \\\n",
       "0       39         State-gov  Bachelors       Never-married   \n",
       "1       50  Self-emp-not-inc  Bachelors  Married-civ-spouse   \n",
       "2       38           Private    HS-grad            Divorced   \n",
       "3       53           Private       11th  Married-civ-spouse   \n",
       "4       28           Private  Bachelors  Married-civ-spouse   \n",
       "...    ...               ...        ...                 ...   \n",
       "47616   33           Private  Bachelors       Never-married   \n",
       "47617   39           Private  Bachelors            Divorced   \n",
       "47618   38           Private  Bachelors  Married-civ-spouse   \n",
       "47619   44           Private  Bachelors            Divorced   \n",
       "47620   35      Self-emp-inc  Bachelors  Married-civ-spouse   \n",
       "\n",
       "              occupation   relationship                race     sex  \\\n",
       "0           Adm-clerical  Not-in-family               White    Male   \n",
       "1        Exec-managerial        Husband               White    Male   \n",
       "2      Handlers-cleaners  Not-in-family               White    Male   \n",
       "3      Handlers-cleaners        Husband               Black    Male   \n",
       "4         Prof-specialty           Wife               Black  Female   \n",
       "...                  ...            ...                 ...     ...   \n",
       "47616     Prof-specialty      Own-child               White    Male   \n",
       "47617     Prof-specialty  Not-in-family               White  Female   \n",
       "47618     Prof-specialty        Husband               White    Male   \n",
       "47619       Adm-clerical      Own-child  Asian-Pac-Islander    Male   \n",
       "47620    Exec-managerial        Husband               White    Male   \n",
       "\n",
       "       hours_per_week native_country income  \n",
       "0                  40  United-States  <=50K  \n",
       "1                  13  United-States  <=50K  \n",
       "2                  40  United-States  <=50K  \n",
       "3                  40  United-States  <=50K  \n",
       "4                  40           Cuba  <=50K  \n",
       "...               ...            ...    ...  \n",
       "47616              40  United-States  <=50K  \n",
       "47617              36  United-States  <=50K  \n",
       "47618              50  United-States  <=50K  \n",
       "47619              40  United-States  <=50K  \n",
       "47620              60  United-States   >50K  \n",
       "\n",
       "[45778 rows x 11 columns]"
      ]
     },
     "metadata": {},
     "output_type": "display_data"
    }
   ],
   "source": [
    "display(incomep)"
   ]
  },
  {
   "cell_type": "code",
   "execution_count": 19,
   "id": "4b592f6d",
   "metadata": {},
   "outputs": [
    {
     "data": {
      "text/plain": [
       "'Mean: age               38.547941\\nhours_per_week    40.938017\\ndtype: float64'"
      ]
     },
     "metadata": {},
     "output_type": "display_data"
    },
    {
     "name": "stdout",
     "output_type": "stream",
     "text": [
      "==================================\n"
     ]
    },
    {
     "data": {
      "text/plain": [
       "'Median: age               37.0\\nhours_per_week    40.0\\ndtype: float64'"
      ]
     },
     "metadata": {},
     "output_type": "display_data"
    },
    {
     "name": "stdout",
     "output_type": "stream",
     "text": [
      "==================================\n"
     ]
    },
    {
     "data": {
      "text/plain": [
       "'Mode:    age workclass education      marital_status    occupation relationship  \\\\\\n0   36   Private   HS-grad  Married-civ-spouse  Craft-repair      Husband   \\n\\n    race   sex  hours_per_week native_country income  \\n0  White  Male              40  United-States  <=50K  '"
      ]
     },
     "metadata": {},
     "output_type": "display_data"
    }
   ],
   "source": [
    "# to check if the data is normally distributed or not (mean=median=mode)\n",
    "# using 'age, hours per week' variables as the yardstick\n",
    "\n",
    "mean_v= incomep.mean()\n",
    "display(f\"Mean: {mean_v}\")\n",
    "print(\"==================================\")\n",
    "\n",
    "median_v= incomep.median()\n",
    "display(f\"Median: {median_v}\")\n",
    "print(\"==================================\")\n",
    "\n",
    "mode_v= incomep.mode()\n",
    "display(f\"Mode: {mode_v}\")"
   ]
  },
  {
   "cell_type": "markdown",
   "id": "443f0f2d",
   "metadata": {},
   "source": [
    "- ### 1.7. Standardization"
   ]
  },
  {
   "cell_type": "code",
   "execution_count": 20,
   "id": "64d7c0a1",
   "metadata": {},
   "outputs": [],
   "source": [
    "# using the standard scaler since the dataset is normally distributed\n",
    "\n",
    "scaler = StandardScaler()\n",
    "x_scaled = scaler.fit_transform(num_variables)"
   ]
  },
  {
   "cell_type": "code",
   "execution_count": 21,
   "id": "2b4068fb",
   "metadata": {},
   "outputs": [
    {
     "data": {
      "text/plain": [
       "(45222, 2)"
      ]
     },
     "execution_count": 21,
     "metadata": {},
     "output_type": "execute_result"
    }
   ],
   "source": [
    "x_scaled.shape"
   ]
  },
  {
   "cell_type": "markdown",
   "id": "d9e9693b",
   "metadata": {},
   "source": [
    "- ### 1.8. Feature engineering"
   ]
  },
  {
   "cell_type": "code",
   "execution_count": 22,
   "id": "33b78319",
   "metadata": {},
   "outputs": [],
   "source": [
    "# getting the pca (principal component analysis ) value\n",
    "\n",
    "pca= PCA(n_components=0.95)\n",
    "p_c_a = pca.fit_transform(x_scaled)"
   ]
  },
  {
   "cell_type": "code",
   "execution_count": 23,
   "id": "b08c445f",
   "metadata": {},
   "outputs": [],
   "source": [
    "# getting the Variance Threshold\n",
    "\n",
    "variance_threshold= VarianceThreshold(0.3)\n",
    "incomep= variance_threshold.fit_transform(x_scaled)"
   ]
  },
  {
   "cell_type": "code",
   "execution_count": 24,
   "id": "bc1395ed",
   "metadata": {},
   "outputs": [],
   "source": [
    "# arranging the data set into target and independent variables\n",
    "\n",
    "ord_enc_d= pd.DataFrame(ord_enc, columns=['education'])\n",
    "\n",
    "x = pd.concat([ord_enc_df, ohe_features, pd.DataFrame(x_scaled)], axis=1)\n",
    "\n",
    "y= lab_enc"
   ]
  },
  {
   "cell_type": "code",
   "execution_count": 25,
   "id": "13d3a5de",
   "metadata": {},
   "outputs": [],
   "source": [
    "# splitting the dataset  \n",
    "\n",
    "x_train, x_test, y_train, y_test= train_test_split(x, y, test_size= 0.3, random_state= 42)\n"
   ]
  },
  {
   "cell_type": "markdown",
   "id": "fddaa4e3",
   "metadata": {},
   "source": [
    "- ### 1.9. Hyperparameter tuning and model training"
   ]
  },
  {
   "cell_type": "markdown",
   "id": "9a48add0",
   "metadata": {},
   "source": [
    "Evaluation will be done using different models, so as to know which of the models will gve a better performance, also a grid of hyperparameters will be defined to see which one exactly makes the model a better fit."
   ]
  },
  {
   "cell_type": "markdown",
   "id": "fa404b30",
   "metadata": {},
   "source": [
    "#### Random Forest Classifier Algorithm ####"
   ]
  },
  {
   "cell_type": "code",
   "execution_count": 30,
   "id": "5dabf1ba",
   "metadata": {},
   "outputs": [
    {
     "name": "stdout",
     "output_type": "stream",
     "text": [
      "Best Parameters: {'n_estimators': 100, 'criterion': 'entropy'}\n",
      "Best Score: 0.8083715052914231\n"
     ]
    }
   ],
   "source": [
    "# evaluation using Random forest classifier algorithm\n",
    "\n",
    "params_grid= {\n",
    "   'n_estimators': [100,200],\n",
    "    'criterion': ['entropy','gini']\n",
    "}  \n",
    "    \n",
    "\n",
    "Random_Forest= RandomForestClassifier()\n",
    "  \n",
    "    \n",
    "random_search= RandomizedSearchCV(estimator=Random_Forest, param_distributions= params_grid, n_iter=10)\n",
    "random_search.fit(x_train, y_train) \n",
    "                                 \n",
    "print(\"Best Parameters:\", random_search.best_params_)\n",
    "print(\"Best Score:\", random_search.best_score_)"
   ]
  },
  {
   "cell_type": "code",
   "execution_count": 31,
   "id": "9c0528f9",
   "metadata": {},
   "outputs": [
    {
     "name": "stdout",
     "output_type": "stream",
     "text": [
      "Accuracy:0.81\n",
      "Precision:0.65\n",
      "Recall:0.55\n",
      "Confusion matrix:\n",
      "[[9177 1016]\n",
      " [1502 1872]]\n"
     ]
    }
   ],
   "source": [
    "y_pred= random_search.best_estimator_.predict(x_test)\n",
    "y_pred_proba_rf = random_search.best_estimator_.predict_proba(x_test)[:, 1]\n",
    "\n",
    "\n",
    "acc_rf= accuracy_score(y_test,y_pred)\n",
    "precision=precision_score(y_test,y_pred)\n",
    "\n",
    "recall= recall_score(y_test,y_pred)\n",
    "confusion_mat= confusion_matrix(y_test,y_pred)\n",
    "\n",
    "\n",
    "print(f\"Accuracy:{acc_rf:.2f}\")\n",
    "print(f\"Precision:{precision:.2f}\")\n",
    "print(f\"Recall:{recall:.2f}\")\n",
    "print(f\"Confusion matrix:\\n{confusion_mat}\")\n",
    "\n",
    "\n",
    "    "
   ]
  },
  {
   "cell_type": "markdown",
   "id": "ec143028",
   "metadata": {},
   "source": [
    "#### Logistic Regression Algorithm ####"
   ]
  },
  {
   "cell_type": "code",
   "execution_count": 26,
   "id": "8a50fe38",
   "metadata": {},
   "outputs": [
    {
     "name": "stdout",
     "output_type": "stream",
     "text": [
      "Best Parameters: {'C': 1}\n",
      "Best Score: 0.8167430105828462\n"
     ]
    }
   ],
   "source": [
    "params_grid= {\n",
    "   'C':[0.1,1]}  \n",
    "    \n",
    "\n",
    "Logistic_Regression= LogisticRegression()\n",
    "  \n",
    "    \n",
    "random_search= RandomizedSearchCV(estimator=Logistic_Regression, param_distributions= params_grid, n_iter=10)\n",
    "random_search.fit(x_train, y_train) \n",
    "                                 \n",
    "print(\"Best Parameters:\", random_search.best_params_)\n",
    "print(\"Best Score:\", random_search.best_score_)\n"
   ]
  },
  {
   "cell_type": "code",
   "execution_count": 27,
   "id": "7c072293",
   "metadata": {},
   "outputs": [
    {
     "name": "stdout",
     "output_type": "stream",
     "text": [
      "Accuracy:0.82\n",
      "Precision:0.69\n",
      "Confusion matrix:\n",
      "[[9368  825]\n",
      " [1567 1807]]\n"
     ]
    }
   ],
   "source": [
    "y_pred= random_search.best_estimator_.predict(x_test)\n",
    "y_pred_proba_log =  random_search.best_estimator_.predict_proba(x_test)[:, 1]\n",
    "\n",
    "acc_log= accuracy_score(y_test,y_pred)\n",
    "precision=precision_score(y_test,y_pred)     \n",
    "recall= recall_score(y_test,y_pred)\n",
    "confusion_mat= confusion_matrix(y_test,y_pred)\n",
    "\n",
    "print(f\"Accuracy:{acc_log:.2f}\")\n",
    "print(f\"Precision:{precision:.2f}\")\n",
    "print(f\"Confusion matrix:\\n{confusion_mat}\")\n",
    "    "
   ]
  },
  {
   "cell_type": "markdown",
   "id": "608079c7",
   "metadata": {},
   "source": [
    "####  Decision Tree Classifier Algorithm ####"
   ]
  },
  {
   "cell_type": "code",
   "execution_count": 28,
   "id": "bdc6768b",
   "metadata": {},
   "outputs": [
    {
     "name": "stdout",
     "output_type": "stream",
     "text": [
      "Best Parameters: {'max_depth': 10, 'criterion': 'entropy'}\n",
      "Best Score: 0.8217343231716949\n"
     ]
    }
   ],
   "source": [
    "# evaluation using decision tree algorithm\n",
    "\n",
    "params_grid= {\n",
    "   'max_depth':[None,5,10],\n",
    "    'criterion': ['gini','entropy']\n",
    "}  \n",
    "    \n",
    "\n",
    "Decision_Tree= DecisionTreeClassifier()\n",
    "  \n",
    "    \n",
    "random_search= RandomizedSearchCV(estimator=Decision_Tree, param_distributions= params_grid, n_iter=10)\n",
    "random_search.fit(x_train, y_train) \n",
    "                                 \n",
    "print(\"Best Parameters:\", random_search.best_params_)\n",
    "print(\"Best Score:\", random_search.best_score_)\n",
    "\n"
   ]
  },
  {
   "cell_type": "code",
   "execution_count": 29,
   "id": "9de26af5",
   "metadata": {},
   "outputs": [
    {
     "name": "stdout",
     "output_type": "stream",
     "text": [
      "Accuracy:0.82\n",
      "Precision:0.66\n",
      "Confusion matrix:\n",
      "[[9206  987]\n",
      " [1424 1950]]\n"
     ]
    }
   ],
   "source": [
    "y_pred= random_search.best_estimator_.predict(x_test)\n",
    "y_pred_proba_tree = random_search.best_estimator_.predict_proba(x_test)[:, 1]\n",
    "\n",
    "acc_tree= accuracy_score(y_test,y_pred)\n",
    "precision=precision_score(y_test,y_pred)     \n",
    "recall= recall_score(y_test,y_pred)\n",
    "confusion_mat= confusion_matrix(y_test,y_pred)\n",
    "\n",
    "print(f\"Accuracy:{acc_tree:.2f}\")\n",
    "print(f\"Precision:{precision:.2f}\")\n",
    "print(f\"Confusion matrix:\\n{confusion_mat}\")\n",
    "    "
   ]
  },
  {
   "cell_type": "markdown",
   "id": "d3b137c3",
   "metadata": {},
   "source": [
    "#### SVC Algorithm ####"
   ]
  },
  {
   "cell_type": "code",
   "execution_count": 53,
   "id": "e92dd790",
   "metadata": {},
   "outputs": [
    {
     "name": "stdout",
     "output_type": "stream",
     "text": [
      "Best Parameters: {'kernel': 'rbf', 'C': 1}\n",
      "Best Score: 0.8162375612067603\n"
     ]
    }
   ],
   "source": [
    "# evaluation using SVC algorithm\n",
    "\n",
    "params_grid= {\n",
    "   'C':[0.1,1],\n",
    "    'kernel':['linear','rbf']\n",
    "}  \n",
    "    \n",
    "\n",
    "svc= SVC()\n",
    "  \n",
    "    \n",
    "random_search= RandomizedSearchCV(estimator=svc, param_distributions= params_grid, n_iter=10)\n",
    "random_search.fit(x_train, y_train) \n",
    "                                 \n",
    "print(\"Best Parameters:\", random_search.best_params_)\n",
    "print(\"Best Score:\", random_search.best_score_)\n"
   ]
  },
  {
   "cell_type": "code",
   "execution_count": 56,
   "id": "5ce28fee",
   "metadata": {},
   "outputs": [
    {
     "name": "stdout",
     "output_type": "stream",
     "text": [
      "Accuracy:0.82\n",
      "Precision:0.68\n",
      "Confusion matrix:\n",
      "[[9311  882]\n",
      " [1507 1867]]\n"
     ]
    }
   ],
   "source": [
    "y_pred= random_search.best_estimator_.predict(x_test)\n",
    "\n",
    "accuracy= accuracy_score(y_test,y_pred)\n",
    "precision=precision_score(y_test,y_pred)     \n",
    "recall= recall_score(y_test,y_pred)\n",
    "confusion_mat= confusion_matrix(y_test,y_pred)\n",
    "\n",
    "print(f\"Accuracy:{accuracy:.2f}\")\n",
    "print(f\"Precision:{precision:.2f}\")\n",
    "print(f\"Confusion matrix:\\n{confusion_mat}\")\n",
    "    "
   ]
  },
  {
   "cell_type": "markdown",
   "id": "6c601ae8",
   "metadata": {},
   "source": [
    "- ### 2.0. Model performance"
   ]
  },
  {
   "cell_type": "code",
   "execution_count": 32,
   "id": "c0e74aa8",
   "metadata": {},
   "outputs": [],
   "source": [
    "\n",
    "# Assuming you have y_test (ground truth labels) and y_pred_proba (model predictions)\n",
    "\n",
    "# Calculate ROC curves and thresholds for each model\n",
    "fpr_log, tpr_log, thresholds_log = roc_curve(y_test, y_pred_proba_log)\n",
    "auc_score_log = auc(fpr_log, tpr_log)\n",
    "\n",
    "fpr_tree, tpr_tree, thresholds_tree = roc_curve(y_test, y_pred_proba_tree)\n",
    "auc_score_tree = auc(fpr_tree, tpr_tree)\n",
    "\n",
    "fpr_rf, tpr_rf, thresholds_rf = roc_curve(y_test, y_pred_proba_rf)\n",
    "auc_score_rf = auc(fpr_rf, tpr_rf)\n",
    "\n"
   ]
  },
  {
   "cell_type": "code",
   "execution_count": 33,
   "id": "f2082451",
   "metadata": {},
   "outputs": [
    {
     "data": {
      "image/png": "[encoded data removed]",
      "text/plain": [
       "<Figure size 432x288 with 1 Axes>"
      ]
     },
     "metadata": {},
     "output_type": "display_data"
    }
   ],
   "source": [
    "# Plot ROC curves\n",
    "plt.plot(fpr_log, tpr_log, color='darkgreen', label=f'Logistics Regression (AUC: {auc_score_log:.2f})')\n",
    "plt.plot(fpr_tree, tpr_tree, color='darkblue', label=f'Decision Tree (AUC: {auc_score_tree:.2f})')\n",
    "plt.plot(fpr_rf, tpr_rf, color='darkorange', label=f'Random Forest (AUC: {auc_score_rf:.2f})')\n",
    "\n",
    "# Plot the diagonal reference line\n",
    "plt.plot([0, 1], [0, 1], 'k--', label='Diagonal Reference')\n",
    "\n",
    "plt.xlabel('False Positive Rate')\n",
    "plt.ylabel('True Positive Rate')\n",
    "plt.title('ROC Curve')\n",
    "plt.legend()\n",
    "plt.show()"
   ]
  },
  {
   "cell_type": "markdown",
   "id": "dcb3f9cb",
   "metadata": {},
   "source": [
    "- ### 2.1. Summary and Recommendations"
   ]
  },
  {
   "cell_type": "markdown",
   "id": "0b3a7efb",
   "metadata": {},
   "source": [
    "This project evaluated and predicted if the income of indivduals exceed 50k per year based on the income data provided, using different models to evaluate it. \n",
    "The insights gotten in the above cells from the dataset sufficiently explained the data.\n",
    "The best performing model will provide insights into the relationship between the income and other variables.\n",
    "\n",
    "\n",
    "- ### Recommendations\n",
    "1. explore other feature engineering techniques\n",
    "2. increase the sample size and features\n",
    "3. develop a web application for deployment so as to make insightful predictions\n",
    "4. consider using other ensemble learning techniques to improve model performance"
   ]
  },
  {
   "cell_type": "markdown",
   "id": "6afafdb6",
   "metadata": {},
   "source": [
    "- ### 2.2. Saving the model"
   ]
  },
  {
   "cell_type": "code",
   "execution_count": 34,
   "id": "640e4986",
   "metadata": {},
   "outputs": [
    {
     "data": {
      "text/plain": [
       "['all_models.pkl']"
      ]
     },
     "execution_count": 34,
     "metadata": {},
     "output_type": "execute_result"
    }
   ],
   "source": [
    "models= {\n",
    "    'Random Forest':\n",
    "    RandomForestClassifier(),\n",
    "    'Logistic Regression':\n",
    "    LogisticRegression(),\n",
    "    'SVC': SVC(),\n",
    "    'Decision Tree':\n",
    "    DecisionTreeClassifier()\n",
    "}  \n",
    "\n",
    "\n",
    "# save the dictionary\n",
    "joblib.dump(models, \"all_models.pkl\")"
   ]
  },
  {
   "cell_type": "code",
   "execution_count": null,
   "id": "47f2dffb",
   "metadata": {},
   "outputs": [],
   "source": []
  }
 ],
 "metadata": {
  "kernelspec": {
   "display_name": "Python 3 (ipykernel)",
   "language": "python",
   "name": "python3"
  },
  "language_info": {
   "codemirror_mode": {
    "name": "ipython",
    "version": 3
   },
   "file_extension": ".py",
   "mimetype": "text/x-python",
   "name": "python",
   "nbconvert_exporter": "python",
   "pygments_lexer": "ipython3",
   "version": "3.9.12"
  }
 },
 "nbformat": 4,
 "nbformat_minor": 5
}
